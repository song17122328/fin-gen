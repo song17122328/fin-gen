{
 "cells": [
  {
   "cell_type": "markdown",
   "id": "89b9b1ba-f760-4e95-8970-98ec2a720b07",
   "metadata": {},
   "source": [
    "# 步骤一：库的安装\n",
    "首先，激活 Conda 环境：\n",
    "```Bash\n",
    "conda activate fin-gen\n",
    "```\n",
    "然后，使用 pip 安装库。建议同时安装 rich 库，它可以让输出更美观。\n",
    "```Bash\n",
    "pip install pytorch-tabular rich\n",
    "```\n",
    "如果安装过程中遇到依赖冲突，可以尝试创建一个全新的环境来安装，或者根据报错信息解决。这是科研环境配置的日常。"
   ]
  },
  {
   "cell_type": "markdown",
   "id": "099ad916-694a-4d20-a837-7e29676833da",
   "metadata": {},
   "source": [
    "# 步骤二：数据准备"
   ]
  },
  {
   "cell_type": "code",
   "execution_count": 1,
   "id": "f200c8a4-7e75-4b8c-8c56-9cd3c1a90bdf",
   "metadata": {},
   "outputs": [
    {
     "name": "stdout",
     "output_type": "stream",
     "text": [
      "正在下载或从缓存定位数据集...\n",
      "----原始数据信息----\n",
      "<class 'pandas.core.frame.DataFrame'>\n",
      "RangeIndex: 30000 entries, 0 to 29999\n",
      "Data columns (total 25 columns):\n",
      " #   Column                      Non-Null Count  Dtype  \n",
      "---  ------                      --------------  -----  \n",
      " 0   ID                          30000 non-null  int64  \n",
      " 1   LIMIT_BAL                   30000 non-null  float64\n",
      " 2   SEX                         30000 non-null  int64  \n",
      " 3   EDUCATION                   30000 non-null  int64  \n",
      " 4   MARRIAGE                    30000 non-null  int64  \n",
      " 5   AGE                         30000 non-null  int64  \n",
      " 6   PAY_0                       30000 non-null  int64  \n",
      " 7   PAY_2                       30000 non-null  int64  \n",
      " 8   PAY_3                       30000 non-null  int64  \n",
      " 9   PAY_4                       30000 non-null  int64  \n",
      " 10  PAY_5                       30000 non-null  int64  \n",
      " 11  PAY_6                       30000 non-null  int64  \n",
      " 12  BILL_AMT1                   30000 non-null  float64\n",
      " 13  BILL_AMT2                   30000 non-null  float64\n",
      " 14  BILL_AMT3                   30000 non-null  float64\n",
      " 15  BILL_AMT4                   30000 non-null  float64\n",
      " 16  BILL_AMT5                   30000 non-null  float64\n",
      " 17  BILL_AMT6                   30000 non-null  float64\n",
      " 18  PAY_AMT1                    30000 non-null  float64\n",
      " 19  PAY_AMT2                    30000 non-null  float64\n",
      " 20  PAY_AMT3                    30000 non-null  float64\n",
      " 21  PAY_AMT4                    30000 non-null  float64\n",
      " 22  PAY_AMT5                    30000 non-null  float64\n",
      " 23  PAY_AMT6                    30000 non-null  float64\n",
      " 24  default.payment.next.month  30000 non-null  int64  \n",
      "dtypes: float64(13), int64(12)\n",
      "memory usage: 5.7 MB\n",
      "None\n",
      "\n",
      "--- 清洗并重命名后的数据预览 ---\n",
      "   LIMIT_BAL  SEX  EDUCATION  MARRIAGE  AGE  PAY_1  PAY_2  PAY_3  PAY_4  \\\n",
      "0    20000.0    2          2         1   24      2      2     -1     -1   \n",
      "1   120000.0    2          2         2   26     -1      2      0      0   \n",
      "2    90000.0    2          2         2   34      0      0      0      0   \n",
      "3    50000.0    2          2         1   37      0      0      0      0   \n",
      "4    50000.0    1          2         1   57     -1      0     -1      0   \n",
      "\n",
      "   PAY_5  ...  BILL_AMT4  BILL_AMT5  BILL_AMT6  PAY_AMT1  PAY_AMT2  PAY_AMT3  \\\n",
      "0     -2  ...        0.0        0.0        0.0       0.0     689.0       0.0   \n",
      "1      0  ...     3272.0     3455.0     3261.0       0.0    1000.0    1000.0   \n",
      "2      0  ...    14331.0    14948.0    15549.0    1518.0    1500.0    1000.0   \n",
      "3      0  ...    28314.0    28959.0    29547.0    2000.0    2019.0    1200.0   \n",
      "4      0  ...    20940.0    19146.0    19131.0    2000.0   36681.0   10000.0   \n",
      "\n",
      "   PAY_AMT4  PAY_AMT5  PAY_AMT6  default  \n",
      "0       0.0       0.0       0.0        1  \n",
      "1    1000.0       0.0    2000.0        1  \n",
      "2    1000.0    1000.0    5000.0        0  \n",
      "3    1100.0    1069.0    1000.0        0  \n",
      "4    9000.0     689.0     679.0        0  \n",
      "\n",
      "[5 rows x 24 columns]\n"
     ]
    }
   ],
   "source": [
    "import kagglehub\n",
    "import os\n",
    "import pandas as pd\n",
    "\n",
    "# 1. 使用 kagglehub 下载数据集到缓存，并获取路径\n",
    "print(\"正在下载或从缓存定位数据集...\")\n",
    "dataset_dir = kagglehub.dataset_download(\"uciml/default-of-credit-card-clients-dataset\")\n",
    "dataset = os.path.join(dataset_dir, \"UCI_Credit_Card.csv\")\n",
    "\n",
    "\n",
    "# 1。加载数据\n",
    "df = pd.read_csv(dataset)\n",
    "# 2. 数据初步检查与清洗\n",
    "print(\"----原始数据信息----\")\n",
    "print(df.info())\n",
    "\n",
    "# ID通常对建模没有帮助，删除ID列\n",
    "df = df.drop(\"ID\",axis = 1)\n",
    "\n",
    "\n",
    "# 列名可能不友好，我们来重命名一下\n",
    "# 特别是最后一个目标变量 'default.payment.next.month'\n",
    "df = df.rename(columns={'default.payment.next.month': 'default', \n",
    "                        'PAY_0': 'PAY_1'}) # PAY_0 和 PAY_1 含义相似，统一一下命名习惯\n",
    "\n",
    "# 让我们看看数据的前5行，确认修改生效\n",
    "print(\"\\n--- 清洗并重命名后的数据预览 ---\")\n",
    "print(df.head())"
   ]
  },
  {
   "cell_type": "code",
   "execution_count": 2,
   "id": "f71b05db-38fe-415e-9cf5-2124a0ce96c8",
   "metadata": {},
   "outputs": [
    {
     "name": "stdout",
     "output_type": "stream",
     "text": [
      "类别特征:['SEX', 'EDUCATION', 'MARRIAGE', 'PAY_1', 'PAY_2', 'PAY_3', 'PAY_4', 'PAY_5', 'PAY_6']\n",
      "数值特征:['LIMIT_BAL', 'AGE', 'PAY_AMT1', 'PAY_AMT2', 'PAY_AMT3', 'PAY_AMT4', 'PAY_AMT5', 'PAY_AMT6']\n",
      "目标特征:default\n"
     ]
    }
   ],
   "source": [
    "# --- 1. 定义特征类型 ---\n",
    "# 识别出哪些是类别特征，哪些是连续（数值）特征\n",
    "# 通常，取值范围有限且不表示大小关系的特征是类别特征\n",
    "categorical_cols = ['SEX','EDUCATION','MARRIAGE']+[f'PAY_{i}' for i in range(1,7)]\n",
    "numerical_cols = ['LIMIT_BAL' , 'AGE']+ [f'PAY_AMT{i}' for i in range(1,7)]\n",
    "\n",
    "#目标变量\n",
    "target_col = 'default'\n",
    "print(f\"类别特征:{categorical_cols}\")\n",
    "print(f\"数值特征:{numerical_cols}\")\n",
    "print(f\"目标特征:{target_col}\")\n"
   ]
  },
  {
   "cell_type": "code",
   "execution_count": 3,
   "id": "f9387d7c-0713-4cee-b6cf-3540c8a59627",
   "metadata": {},
   "outputs": [],
   "source": [
    "# --- 2. 修正一些数据类型问题 ---\n",
    "# PAY_* 系列特征虽然是数字，但它们代表的是类别（-2=未使用, -1=付清, 1=延迟1个月...）\n",
    "# 我们需要确保它们被当作类别处理\n",
    "\n",
    "for col in categorical_cols:\n",
    "    df[col] = df[col].astype('category')\n",
    "\n",
    "# print(df.describe())"
   ]
  },
  {
   "cell_type": "markdown",
   "id": "100f592b-bf12-4944-aa88-69692205de17",
   "metadata": {},
   "source": [
    "### 代码解释:\n",
    "特征分类: 这是关键一步。正确区分 categorical_cols 和 numerical_cols 对 FT-Transformer 至关重要，因为它会对这两类特征做不同的处理。\n",
    "* **.astype('category'):** 明确告诉 Pandas 和 pytorch-tabular，这些列是类别，而不是可以比较大小的数字。\n",
    "* **train_test_split:** 这是机器学习的标准流程。\n",
    "  test_size=0.2 表示留出20%的数据完全不用来训练，只在最后用来评估。stratify=df[target_col] 是一个非常重要的参数，它能保证在划分后的训练集、验证集和测试集中，违约和不违约的样本比例与原始数据集保持一致。"
   ]
  },
  {
   "cell_type": "code",
   "execution_count": 4,
   "id": "a5648e97-c9eb-4f93-adc4-4d643abfe39a",
   "metadata": {},
   "outputs": [
    {
     "name": "stdout",
     "output_type": "stream",
     "text": [
      "\n",
      "---数据集划分情况---\n",
      "总样本数:30000\n",
      "训练集样本数:21600\n",
      "验证集样本数:2400\n",
      "测试集样本数:6000\n"
     ]
    }
   ],
   "source": [
    "from sklearn.model_selection import train_test_split\n",
    "\n",
    "# --- 3. 划分数据集 ---\n",
    "# 将数据划分为训练集和测试集，这非常重要！\n",
    "# 我们在训练集上训练模型，在测试集上评估模型的泛化能力\n",
    "# 再从训练集中分出一部分作为验证集，用于模型训练过程中的监控和调优\n",
    "\n",
    "# 先分出 20% 作为最终的测试集\n",
    "train_val_df ,test_df = train_test_split(df,test_size = 0.2, random_state = 42,stratify = df[target_col])\n",
    "\n",
    "# 再从剩下的数据中分出 10% 作为验证集\n",
    "train_df, val_df = train_test_split(train_val_df, test_size=0.1, random_state=42, stratify=train_val_df[target_col])\n",
    "print(\"\\n---数据集划分情况---\")\n",
    "print(f\"总样本数:{len(df)}\")\n",
    "print(f\"训练集样本数:{len(train_df)}\")\n",
    "print(f\"验证集样本数:{len(val_df)}\")\n",
    "print(f\"测试集样本数:{len(test_df)}\")\n"
   ]
  },
  {
   "cell_type": "markdown",
   "id": "c36319dd-729e-4782-a972-d44c94685ec8",
   "metadata": {},
   "source": [
    "# 步骤三：配置并训练 FT-Transformer 模型"
   ]
  },
  {
   "cell_type": "code",
   "execution_count": 5,
   "id": "b39baf9f-a66c-4952-b7c7-ac388e0750ad",
   "metadata": {},
   "outputs": [],
   "source": [
    "from pytorch_tabular import TabularModel\n",
    "from pytorch_tabular.models import FTTransformerConfig\n",
    "from pytorch_tabular.config import DataConfig,OptimizerConfig,TrainerConfig,ExperimentConfig"
   ]
  },
  {
   "cell_type": "markdown",
   "id": "77626b10-d9f9-4b59-87dd-9027b20d4837",
   "metadata": {},
   "source": [
    "* [参考文档](https://pytorch-tabular.readthedocs.io/en/latest/models/)\n",
    "* [API文档](https://pytorch-tabular.readthedocs.io/en/stable/apidocs_model/#pytorch_tabular.models.FTTransformerConfig)"
   ]
  },
  {
   "cell_type": "markdown",
   "id": "257c6609-3a66-443f-8947-94ec01f6a787",
   "metadata": {},
   "source": [
    "--- 1. 配置数据 ---"
   ]
  },
  {
   "cell_type": "code",
   "execution_count": 6,
   "id": "2cc43b08-350d-4a1d-aef1-697e4b50856e",
   "metadata": {},
   "outputs": [],
   "source": [
    "data_config = DataConfig(\n",
    "    target = [target_col], # 目标变量列名\n",
    "    continuous_cols = numerical_cols,\n",
    "    categorical_cols = categorical_cols,\n",
    ")"
   ]
  },
  {
   "cell_type": "markdown",
   "id": "02716922-9433-4fb8-a873-1fad497abd86",
   "metadata": {},
   "source": [
    " --- 2. 配置模型 (FT-Transformer) --- 这里可以设置模型的超参数。\n",
    " \n",
    "num_heads, num_attn_blocks 分别是Transformer的头数和层数"
   ]
  },
  {
   "cell_type": "code",
   "execution_count": 7,
   "id": "1e753905-77db-4ee3-8359-ba8ad010a784",
   "metadata": {},
   "outputs": [],
   "source": [
    "# num_heads, num_attn_blocks 分别是Transformer的头数和层数\n",
    "model_config = FTTransformerConfig(\n",
    "    task = \"classification\",\n",
    "    num_heads = 4,\n",
    "    num_attn_blocks = 3,\n",
    "    learning_rate = 1e-4, # 默认是1e-3\n",
    ")"
   ]
  },
  {
   "cell_type": "markdown",
   "id": "0036b00d-8aa2-4135-9e7b-a2dd788e6596",
   "metadata": {},
   "source": [
    " -- 3. 配置训练器 --- 这里设置训练过程的参数，比如用不用GPU，跑多少个epoch等"
   ]
  },
  {
   "cell_type": "code",
   "execution_count": 8,
   "id": "0db5eb13-ca1f-4b86-a89e-ff4cfbe8e815",
   "metadata": {},
   "outputs": [],
   "source": [
    "trainer_config = TrainerConfig(  \n",
    "    batch_size = 64,\n",
    "    accelerator = 'auto',        # 自动检测是否有GPU ('gpu', 'cpu', 'auto')\n",
    "    max_epochs = 10,             # 先设置一个较小的epoch数\n",
    "    early_stopping = \"valid_loss\", # 如果验证集损失不再下降，就提前停止，防止过拟合\n",
    "    early_stopping_patience = 3,\n",
    "    progress_bar=\"simple\"\n",
    ")"
   ]
  },
  {
   "cell_type": "markdown",
   "id": "e351a4c5-97e1-4c9f-bc53-b0bde011156e",
   "metadata": {},
   "source": [
    "--- 4. 配置优化器 ---"
   ]
  },
  {
   "cell_type": "code",
   "execution_count": 9,
   "id": "bb8ff44c-1279-40c5-94a1-f4004061e71b",
   "metadata": {},
   "outputs": [],
   "source": [
    "optimizer_config = OptimizerConfig()\n"
   ]
  },
  {
   "cell_type": "markdown",
   "id": "a11f5619-d670-4de2-8c92-34bcb4dacb74",
   "metadata": {},
   "source": [
    "--- 5. 整合所有配置 ---"
   ]
  },
  {
   "cell_type": "code",
   "execution_count": 10,
   "id": "d246289b-3baa-45a8-b1ff-7312efc4df53",
   "metadata": {},
   "outputs": [],
   "source": [
    "experiment_config = ExperimentConfig(\n",
    "    project_name=\"CreditCard_FTTransformer\", # 实验项目名\n",
    "    run_name=\"first_run\",                   # 本次运行的名称\n",
    "    log_target=\"tensorboard\",               # 使用TensorBoard记录日志\n",
    "    # log_target=\"wandb\", # 如果你用WandB，可以改成这个\n",
    ")"
   ]
  },
  {
   "cell_type": "markdown",
   "id": "25aa54ab-1e41-45e7-bec1-53eacf741221",
   "metadata": {},
   "source": [
    "--- 6. 初始化 TabularModel ---"
   ]
  },
  {
   "cell_type": "code",
   "execution_count": 11,
   "id": "333e742b-3774-4385-9f9f-69cf0209161f",
   "metadata": {},
   "outputs": [],
   "source": [
    "# 这是将所有配置组合在一起的核心对象\n",
    "tabular_model = TabularModel(\n",
    "    data_config=data_config,\n",
    "    model_config=model_config,\n",
    "    optimizer_config=optimizer_config,\n",
    "    trainer_config=trainer_config,\n",
    "    experiment_config=experiment_config,\n",
    ")"
   ]
  },
  {
   "cell_type": "markdown",
   "id": "8c2cc87d-5eca-48ee-841b-d6aff408a011",
   "metadata": {},
   "source": [
    "--- 7. 开始训练 ---\n",
    "需要注意的是，此处更改了\n",
    "\n",
    "`~/miniconda3/envs/fin-gen/lib/python3.10/site-packages/pytorch_tabular/utils/python_utils.py`\n",
    "这个文件的85行，把\n",
    "```python\n",
    "return torch.load(f, map_location=map_location)\n",
    "更改为\n",
    "return torch.load(f, map_location=map_location,weights_only=False)\n",
    "```\n",
    "这是因为在pytorch2.6之后，会默认使torch.load中weights_only参数为True，这个参数会严格检测，导致很多情况下抛出异常。\n",
    "\n",
    "这里我们数据来源，训练过程都是安全的，故做上述更改"
   ]
  },
  {
   "cell_type": "code",
   "execution_count": 12,
   "id": "15f0ef42-045c-4be1-b060-7f4e5a4a68ed",
   "metadata": {},
   "outputs": [
    {
     "name": "stderr",
     "output_type": "stream",
     "text": [
      "Seed set to 42\n"
     ]
    },
    {
     "name": "stdout",
     "output_type": "stream",
     "text": [
      "\n",
      "--- 开始训练 FT-Transformer 模型 ---\n"
     ]
    },
    {
     "data": {
      "text/html": [
       "<pre style=\"white-space:pre;overflow-x:auto;line-height:normal;font-family:Menlo,'DejaVu Sans Mono',consolas,'Courier New',monospace\"><span style=\"color: #008080; text-decoration-color: #008080; font-weight: bold\">2025</span>-<span style=\"color: #008080; text-decoration-color: #008080; font-weight: bold\">09</span>-<span style=\"color: #008080; text-decoration-color: #008080; font-weight: bold\">23</span> <span style=\"color: #00ff00; text-decoration-color: #00ff00; font-weight: bold\">22:03:04</span>,<span style=\"color: #008080; text-decoration-color: #008080; font-weight: bold\">248</span> - <span style=\"font-weight: bold\">{</span>pytorch_tabular.tabular_model:<span style=\"color: #008080; text-decoration-color: #008080; font-weight: bold\">548</span><span style=\"font-weight: bold\">}</span> - INFO - Preparing the DataLoaders                   \n",
       "</pre>\n"
      ],
      "text/plain": [
       "\u001b[1;36m2025\u001b[0m-\u001b[1;36m09\u001b[0m-\u001b[1;36m23\u001b[0m \u001b[1;92m22:03:04\u001b[0m,\u001b[1;36m248\u001b[0m - \u001b[1m{\u001b[0mpytorch_tabular.tabular_model:\u001b[1;36m548\u001b[0m\u001b[1m}\u001b[0m - INFO - Preparing the DataLoaders                   \n"
      ]
     },
     "metadata": {},
     "output_type": "display_data"
    },
    {
     "name": "stderr",
     "output_type": "stream",
     "text": [
      "/data/home/yuanxiaosong/miniconda3/envs/fin-gen/lib/python3.10/site-packages/pytorch_tabular/tabular_datamodule.py:307: FutureWarning: Downcasting object dtype arrays on .fillna, .ffill, .bfill is deprecated and will change in a future version. Call result.infer_objects(copy=False) instead. To opt-in to the future behavior, set `pd.set_option('future.no_silent_downcasting', True)`\n",
      "  int(x) + 1 for x in list(self.train[config.categorical_cols].fillna(\"NA\").nunique().values)\n"
     ]
    },
    {
     "data": {
      "text/html": [
       "<pre style=\"white-space:pre;overflow-x:auto;line-height:normal;font-family:Menlo,'DejaVu Sans Mono',consolas,'Courier New',monospace\"><span style=\"color: #008080; text-decoration-color: #008080; font-weight: bold\">2025</span>-<span style=\"color: #008080; text-decoration-color: #008080; font-weight: bold\">09</span>-<span style=\"color: #008080; text-decoration-color: #008080; font-weight: bold\">23</span> <span style=\"color: #00ff00; text-decoration-color: #00ff00; font-weight: bold\">22:03:04</span>,<span style=\"color: #008080; text-decoration-color: #008080; font-weight: bold\">340</span> - <span style=\"font-weight: bold\">{</span>pytorch_tabular.tabular_datamodul<span style=\"color: #00ff00; text-decoration-color: #00ff00; font-weight: bold\">e:522</span><span style=\"font-weight: bold\">}</span> - INFO - Setting up the datamodule for          \n",
       "classification task                                                                                                \n",
       "</pre>\n"
      ],
      "text/plain": [
       "\u001b[1;36m2025\u001b[0m-\u001b[1;36m09\u001b[0m-\u001b[1;36m23\u001b[0m \u001b[1;92m22:03:04\u001b[0m,\u001b[1;36m340\u001b[0m - \u001b[1m{\u001b[0mpytorch_tabular.tabular_datamodul\u001b[1;92me:522\u001b[0m\u001b[1m}\u001b[0m - INFO - Setting up the datamodule for          \n",
       "classification task                                                                                                \n"
      ]
     },
     "metadata": {},
     "output_type": "display_data"
    },
    {
     "name": "stderr",
     "output_type": "stream",
     "text": [
      "/data/home/yuanxiaosong/miniconda3/envs/fin-gen/lib/python3.10/site-packages/pytorch_tabular/tabular_datamodule.py:307: FutureWarning: Downcasting object dtype arrays on .fillna, .ffill, .bfill is deprecated and will change in a future version. Call result.infer_objects(copy=False) instead. To opt-in to the future behavior, set `pd.set_option('future.no_silent_downcasting', True)`\n",
      "  int(x) + 1 for x in list(self.train[config.categorical_cols].fillna(\"NA\").nunique().values)\n",
      "/data/home/yuanxiaosong/miniconda3/envs/fin-gen/lib/python3.10/site-packages/pytorch_tabular/categorical_encoders.py:160: FutureWarning: Downcasting object dtype arrays on .fillna, .ffill, .bfill is deprecated and will change in a future version. Call result.infer_objects(copy=False) instead. To opt-in to the future behavior, set `pd.set_option('future.no_silent_downcasting', True)`\n",
      "  map = Series(unique(X[col].fillna(NAN_CATEGORY)), name=col).reset_index().rename(columns={\"index\": \"value\"})\n",
      "/data/home/yuanxiaosong/miniconda3/envs/fin-gen/lib/python3.10/site-packages/pytorch_tabular/categorical_encoders.py:160: FutureWarning: Downcasting object dtype arrays on .fillna, .ffill, .bfill is deprecated and will change in a future version. Call result.infer_objects(copy=False) instead. To opt-in to the future behavior, set `pd.set_option('future.no_silent_downcasting', True)`\n",
      "  map = Series(unique(X[col].fillna(NAN_CATEGORY)), name=col).reset_index().rename(columns={\"index\": \"value\"})\n",
      "/data/home/yuanxiaosong/miniconda3/envs/fin-gen/lib/python3.10/site-packages/pytorch_tabular/categorical_encoders.py:160: FutureWarning: Downcasting object dtype arrays on .fillna, .ffill, .bfill is deprecated and will change in a future version. Call result.infer_objects(copy=False) instead. To opt-in to the future behavior, set `pd.set_option('future.no_silent_downcasting', True)`\n",
      "  map = Series(unique(X[col].fillna(NAN_CATEGORY)), name=col).reset_index().rename(columns={\"index\": \"value\"})\n",
      "/data/home/yuanxiaosong/miniconda3/envs/fin-gen/lib/python3.10/site-packages/pytorch_tabular/categorical_encoders.py:160: FutureWarning: Downcasting object dtype arrays on .fillna, .ffill, .bfill is deprecated and will change in a future version. Call result.infer_objects(copy=False) instead. To opt-in to the future behavior, set `pd.set_option('future.no_silent_downcasting', True)`\n",
      "  map = Series(unique(X[col].fillna(NAN_CATEGORY)), name=col).reset_index().rename(columns={\"index\": \"value\"})\n",
      "/data/home/yuanxiaosong/miniconda3/envs/fin-gen/lib/python3.10/site-packages/pytorch_tabular/categorical_encoders.py:160: FutureWarning: Downcasting object dtype arrays on .fillna, .ffill, .bfill is deprecated and will change in a future version. Call result.infer_objects(copy=False) instead. To opt-in to the future behavior, set `pd.set_option('future.no_silent_downcasting', True)`\n",
      "  map = Series(unique(X[col].fillna(NAN_CATEGORY)), name=col).reset_index().rename(columns={\"index\": \"value\"})\n",
      "/data/home/yuanxiaosong/miniconda3/envs/fin-gen/lib/python3.10/site-packages/pytorch_tabular/categorical_encoders.py:160: FutureWarning: Downcasting object dtype arrays on .fillna, .ffill, .bfill is deprecated and will change in a future version. Call result.infer_objects(copy=False) instead. To opt-in to the future behavior, set `pd.set_option('future.no_silent_downcasting', True)`\n",
      "  map = Series(unique(X[col].fillna(NAN_CATEGORY)), name=col).reset_index().rename(columns={\"index\": \"value\"})\n",
      "/data/home/yuanxiaosong/miniconda3/envs/fin-gen/lib/python3.10/site-packages/pytorch_tabular/categorical_encoders.py:160: FutureWarning: Downcasting object dtype arrays on .fillna, .ffill, .bfill is deprecated and will change in a future version. Call result.infer_objects(copy=False) instead. To opt-in to the future behavior, set `pd.set_option('future.no_silent_downcasting', True)`\n",
      "  map = Series(unique(X[col].fillna(NAN_CATEGORY)), name=col).reset_index().rename(columns={\"index\": \"value\"})\n",
      "/data/home/yuanxiaosong/miniconda3/envs/fin-gen/lib/python3.10/site-packages/pytorch_tabular/categorical_encoders.py:160: FutureWarning: Downcasting object dtype arrays on .fillna, .ffill, .bfill is deprecated and will change in a future version. Call result.infer_objects(copy=False) instead. To opt-in to the future behavior, set `pd.set_option('future.no_silent_downcasting', True)`\n",
      "  map = Series(unique(X[col].fillna(NAN_CATEGORY)), name=col).reset_index().rename(columns={\"index\": \"value\"})\n",
      "/data/home/yuanxiaosong/miniconda3/envs/fin-gen/lib/python3.10/site-packages/pytorch_tabular/categorical_encoders.py:160: FutureWarning: Downcasting object dtype arrays on .fillna, .ffill, .bfill is deprecated and will change in a future version. Call result.infer_objects(copy=False) instead. To opt-in to the future behavior, set `pd.set_option('future.no_silent_downcasting', True)`\n",
      "  map = Series(unique(X[col].fillna(NAN_CATEGORY)), name=col).reset_index().rename(columns={\"index\": \"value\"})\n",
      "/data/home/yuanxiaosong/miniconda3/envs/fin-gen/lib/python3.10/site-packages/pytorch_tabular/categorical_encoders.py:68: FutureWarning: Downcasting object dtype arrays on .fillna, .ffill, .bfill is deprecated and will change in a future version. Call result.infer_objects(copy=False) instead. To opt-in to the future behavior, set `pd.set_option('future.no_silent_downcasting', True)`\n",
      "  X_encoded[col] = X_encoded[col].fillna(NAN_CATEGORY).map(mapping[\"value\"])\n",
      "/data/home/yuanxiaosong/miniconda3/envs/fin-gen/lib/python3.10/site-packages/pytorch_tabular/categorical_encoders.py:71: FutureWarning: A value is trying to be set on a copy of a DataFrame or Series through chained assignment using an inplace method.\n",
      "The behavior will change in pandas 3.0. This inplace method will never work because the intermediate object on which we are setting values always behaves as a copy.\n",
      "\n",
      "For example, when doing 'df[col].method(value, inplace=True)', try using 'df.method({col: value}, inplace=True)' or df[col] = df[col].method(value) instead, to perform the operation inplace on the original object.\n",
      "\n",
      "\n",
      "  X_encoded[col].fillna(self._imputed, inplace=True)\n",
      "/data/home/yuanxiaosong/miniconda3/envs/fin-gen/lib/python3.10/site-packages/pytorch_tabular/tabular_datamodule.py:386: FutureWarning: Setting an item of incompatible dtype is deprecated and will raise in a future error of pandas. Value '[-0.80732853  1.14634762  2.55733595 ... -0.80732853 -0.26464071\n",
      " -1.13294122]' has dtype incompatible with int64, please explicitly cast to a compatible dtype first.\n",
      "  data.loc[:, self.config.continuous_cols] = self.scaler.fit_transform(\n",
      "/data/home/yuanxiaosong/miniconda3/envs/fin-gen/lib/python3.10/site-packages/pytorch_tabular/categorical_encoders.py:68: FutureWarning: Downcasting object dtype arrays on .fillna, .ffill, .bfill is deprecated and will change in a future version. Call result.infer_objects(copy=False) instead. To opt-in to the future behavior, set `pd.set_option('future.no_silent_downcasting', True)`\n",
      "  X_encoded[col] = X_encoded[col].fillna(NAN_CATEGORY).map(mapping[\"value\"])\n",
      "/data/home/yuanxiaosong/miniconda3/envs/fin-gen/lib/python3.10/site-packages/pytorch_tabular/categorical_encoders.py:71: FutureWarning: A value is trying to be set on a copy of a DataFrame or Series through chained assignment using an inplace method.\n",
      "The behavior will change in pandas 3.0. This inplace method will never work because the intermediate object on which we are setting values always behaves as a copy.\n",
      "\n",
      "For example, when doing 'df[col].method(value, inplace=True)', try using 'df.method({col: value}, inplace=True)' or df[col] = df[col].method(value) instead, to perform the operation inplace on the original object.\n",
      "\n",
      "\n",
      "  X_encoded[col].fillna(self._imputed, inplace=True)\n",
      "/data/home/yuanxiaosong/miniconda3/envs/fin-gen/lib/python3.10/site-packages/pytorch_tabular/tabular_datamodule.py:390: FutureWarning: Setting an item of incompatible dtype is deprecated and will raise in a future error of pandas. Value '[-0.80732853 -0.69879096 -0.5902534  ...  0.38658467 -1.45855391\n",
      " -0.5902534 ]' has dtype incompatible with int64, please explicitly cast to a compatible dtype first.\n",
      "  data.loc[:, self.config.continuous_cols] = self.scaler.transform(data.loc[:, self.config.continuous_cols])\n"
     ]
    },
    {
     "data": {
      "text/html": [
       "<pre style=\"white-space:pre;overflow-x:auto;line-height:normal;font-family:Menlo,'DejaVu Sans Mono',consolas,'Courier New',monospace\"><span style=\"color: #008080; text-decoration-color: #008080; font-weight: bold\">2025</span>-<span style=\"color: #008080; text-decoration-color: #008080; font-weight: bold\">09</span>-<span style=\"color: #008080; text-decoration-color: #008080; font-weight: bold\">23</span> <span style=\"color: #00ff00; text-decoration-color: #00ff00; font-weight: bold\">22:03:04</span>,<span style=\"color: #008080; text-decoration-color: #008080; font-weight: bold\">505</span> - <span style=\"font-weight: bold\">{</span>pytorch_tabular.tabular_model:<span style=\"color: #008080; text-decoration-color: #008080; font-weight: bold\">599</span><span style=\"font-weight: bold\">}</span> - INFO - Preparing the Model: FTTransformerModel     \n",
       "</pre>\n"
      ],
      "text/plain": [
       "\u001b[1;36m2025\u001b[0m-\u001b[1;36m09\u001b[0m-\u001b[1;36m23\u001b[0m \u001b[1;92m22:03:04\u001b[0m,\u001b[1;36m505\u001b[0m - \u001b[1m{\u001b[0mpytorch_tabular.tabular_model:\u001b[1;36m599\u001b[0m\u001b[1m}\u001b[0m - INFO - Preparing the Model: FTTransformerModel     \n"
      ]
     },
     "metadata": {},
     "output_type": "display_data"
    },
    {
     "data": {
      "text/html": [
       "<pre style=\"white-space:pre;overflow-x:auto;line-height:normal;font-family:Menlo,'DejaVu Sans Mono',consolas,'Courier New',monospace\"><span style=\"color: #008080; text-decoration-color: #008080; font-weight: bold\">2025</span>-<span style=\"color: #008080; text-decoration-color: #008080; font-weight: bold\">09</span>-<span style=\"color: #008080; text-decoration-color: #008080; font-weight: bold\">23</span> <span style=\"color: #00ff00; text-decoration-color: #00ff00; font-weight: bold\">22:03:04</span>,<span style=\"color: #008080; text-decoration-color: #008080; font-weight: bold\">560</span> - <span style=\"font-weight: bold\">{</span>pytorch_tabular.tabular_model:<span style=\"color: #008080; text-decoration-color: #008080; font-weight: bold\">342</span><span style=\"font-weight: bold\">}</span> - INFO - Preparing the Trainer                       \n",
       "</pre>\n"
      ],
      "text/plain": [
       "\u001b[1;36m2025\u001b[0m-\u001b[1;36m09\u001b[0m-\u001b[1;36m23\u001b[0m \u001b[1;92m22:03:04\u001b[0m,\u001b[1;36m560\u001b[0m - \u001b[1m{\u001b[0mpytorch_tabular.tabular_model:\u001b[1;36m342\u001b[0m\u001b[1m}\u001b[0m - INFO - Preparing the Trainer                       \n"
      ]
     },
     "metadata": {},
     "output_type": "display_data"
    },
    {
     "name": "stderr",
     "output_type": "stream",
     "text": [
      "Trainer will use only 1 of 8 GPUs because it is running inside an interactive / notebook environment. You may try to set `Trainer(devices=8)` but please note that multi-GPU inside interactive / notebook environments is considered experimental and unstable. Your mileage may vary.\n",
      "GPU available: True (cuda), used: True\n",
      "TPU available: False, using: 0 TPU cores\n",
      "HPU available: False, using: 0 HPUs\n"
     ]
    },
    {
     "data": {
      "text/html": [
       "<pre style=\"white-space:pre;overflow-x:auto;line-height:normal;font-family:Menlo,'DejaVu Sans Mono',consolas,'Courier New',monospace\"><span style=\"color: #008080; text-decoration-color: #008080; font-weight: bold\">2025</span>-<span style=\"color: #008080; text-decoration-color: #008080; font-weight: bold\">09</span>-<span style=\"color: #008080; text-decoration-color: #008080; font-weight: bold\">23</span> <span style=\"color: #00ff00; text-decoration-color: #00ff00; font-weight: bold\">22:03:04</span>,<span style=\"color: #008080; text-decoration-color: #008080; font-weight: bold\">656</span> - <span style=\"font-weight: bold\">{</span>pytorch_tabular.tabular_model:<span style=\"color: #008080; text-decoration-color: #008080; font-weight: bold\">678</span><span style=\"font-weight: bold\">}</span> - INFO - Training Started                            \n",
       "</pre>\n"
      ],
      "text/plain": [
       "\u001b[1;36m2025\u001b[0m-\u001b[1;36m09\u001b[0m-\u001b[1;36m23\u001b[0m \u001b[1;92m22:03:04\u001b[0m,\u001b[1;36m656\u001b[0m - \u001b[1m{\u001b[0mpytorch_tabular.tabular_model:\u001b[1;36m678\u001b[0m\u001b[1m}\u001b[0m - INFO - Training Started                            \n"
      ]
     },
     "metadata": {},
     "output_type": "display_data"
    },
    {
     "name": "stderr",
     "output_type": "stream",
     "text": [
      "You are using a CUDA device ('NVIDIA GeForce RTX 4090') that has Tensor Cores. To properly utilize them, you should set `torch.set_float32_matmul_precision('medium' | 'high')` which will trade-off precision for performance. For more details, read https://pytorch.org/docs/stable/generated/torch.set_float32_matmul_precision.html#torch.set_float32_matmul_precision\n",
      "/data/home/yuanxiaosong/miniconda3/envs/fin-gen/lib/python3.10/site-packages/pytorch_lightning/callbacks/model_checkpoint.py:654: Checkpoint directory /data/home/yuanxiaosong/fin-gen/saved_models exists and is not empty.\n",
      "LOCAL_RANK: 0 - CUDA_VISIBLE_DEVICES: [0,1,2,3,4,5,6,7]\n",
      "\n",
      "  | Name             | Type                  | Params | Mode \n",
      "-------------------------------------------------------------------\n",
      "0 | _backbone        | FTTransformerBackbone | 86.5 K | train\n",
      "1 | _embedding_layer | Embedding2dLayer      | 3.6 K  | train\n",
      "2 | _head            | LinearHead            | 66     | train\n",
      "3 | loss             | CrossEntropyLoss      | 0      | train\n",
      "-------------------------------------------------------------------\n",
      "90.2 K    Trainable params\n",
      "0         Non-trainable params\n",
      "90.2 K    Total params\n",
      "0.361     Total estimated model params size (MB)\n",
      "86        Modules in train mode\n",
      "0         Modules in eval mode\n"
     ]
    },
    {
     "data": {
      "application/vnd.jupyter.widget-view+json": {
       "model_id": "90378840cfcd4b109105ba08bc0c44e3",
       "version_major": 2,
       "version_minor": 0
      },
      "text/plain": [
       "Sanity Checking: |                                                                          | 0/? [00:00<?, ?i…"
      ]
     },
     "metadata": {},
     "output_type": "display_data"
    },
    {
     "name": "stderr",
     "output_type": "stream",
     "text": [
      "/data/home/yuanxiaosong/miniconda3/envs/fin-gen/lib/python3.10/site-packages/pytorch_lightning/trainer/connectors/data_connector.py:424: The 'val_dataloader' does not have many workers which may be a bottleneck. Consider increasing the value of the `num_workers` argument` to `num_workers=95` in the `DataLoader` to improve performance.\n",
      "/data/home/yuanxiaosong/miniconda3/envs/fin-gen/lib/python3.10/site-packages/pytorch_lightning/trainer/connectors/data_connector.py:424: The 'train_dataloader' does not have many workers which may be a bottleneck. Consider increasing the value of the `num_workers` argument` to `num_workers=95` in the `DataLoader` to improve performance.\n"
     ]
    },
    {
     "data": {
      "application/vnd.jupyter.widget-view+json": {
       "model_id": "9c8bc8425a4d455fa2237847ee4fd8ac",
       "version_major": 2,
       "version_minor": 0
      },
      "text/plain": [
       "Training: |                                                                                 | 0/? [00:00<?, ?i…"
      ]
     },
     "metadata": {},
     "output_type": "display_data"
    },
    {
     "data": {
      "application/vnd.jupyter.widget-view+json": {
       "model_id": "a9025cfe2e934f3587b615d97eeb4561",
       "version_major": 2,
       "version_minor": 0
      },
      "text/plain": [
       "Validation: |                                                                               | 0/? [00:00<?, ?i…"
      ]
     },
     "metadata": {},
     "output_type": "display_data"
    },
    {
     "data": {
      "application/vnd.jupyter.widget-view+json": {
       "model_id": "9360c6f1e51445da8ac0bafa096e36ab",
       "version_major": 2,
       "version_minor": 0
      },
      "text/plain": [
       "Validation: |                                                                               | 0/? [00:00<?, ?i…"
      ]
     },
     "metadata": {},
     "output_type": "display_data"
    },
    {
     "data": {
      "application/vnd.jupyter.widget-view+json": {
       "model_id": "b220a984a12d4d37b1d9f93919640134",
       "version_major": 2,
       "version_minor": 0
      },
      "text/plain": [
       "Validation: |                                                                               | 0/? [00:00<?, ?i…"
      ]
     },
     "metadata": {},
     "output_type": "display_data"
    },
    {
     "data": {
      "application/vnd.jupyter.widget-view+json": {
       "model_id": "5f5956bb7c954bd19ebfd88fd9adbbef",
       "version_major": 2,
       "version_minor": 0
      },
      "text/plain": [
       "Validation: |                                                                               | 0/? [00:00<?, ?i…"
      ]
     },
     "metadata": {},
     "output_type": "display_data"
    },
    {
     "data": {
      "application/vnd.jupyter.widget-view+json": {
       "model_id": "5bb1c449d2e645988d394b3bb9686aae",
       "version_major": 2,
       "version_minor": 0
      },
      "text/plain": [
       "Validation: |                                                                               | 0/? [00:00<?, ?i…"
      ]
     },
     "metadata": {},
     "output_type": "display_data"
    },
    {
     "data": {
      "application/vnd.jupyter.widget-view+json": {
       "model_id": "1c2616612a034d93837a4d35ac6bc8c2",
       "version_major": 2,
       "version_minor": 0
      },
      "text/plain": [
       "Validation: |                                                                               | 0/? [00:00<?, ?i…"
      ]
     },
     "metadata": {},
     "output_type": "display_data"
    },
    {
     "data": {
      "text/html": [
       "<pre style=\"white-space:pre;overflow-x:auto;line-height:normal;font-family:Menlo,'DejaVu Sans Mono',consolas,'Courier New',monospace\"><span style=\"color: #008080; text-decoration-color: #008080; font-weight: bold\">2025</span>-<span style=\"color: #008080; text-decoration-color: #008080; font-weight: bold\">09</span>-<span style=\"color: #008080; text-decoration-color: #008080; font-weight: bold\">23</span> <span style=\"color: #00ff00; text-decoration-color: #00ff00; font-weight: bold\">22:04:02</span>,<span style=\"color: #008080; text-decoration-color: #008080; font-weight: bold\">484</span> - <span style=\"font-weight: bold\">{</span>pytorch_tabular.tabular_model:<span style=\"color: #008080; text-decoration-color: #008080; font-weight: bold\">689</span><span style=\"font-weight: bold\">}</span> - INFO - Training the model completed                \n",
       "</pre>\n"
      ],
      "text/plain": [
       "\u001b[1;36m2025\u001b[0m-\u001b[1;36m09\u001b[0m-\u001b[1;36m23\u001b[0m \u001b[1;92m22:04:02\u001b[0m,\u001b[1;36m484\u001b[0m - \u001b[1m{\u001b[0mpytorch_tabular.tabular_model:\u001b[1;36m689\u001b[0m\u001b[1m}\u001b[0m - INFO - Training the model completed                \n"
      ]
     },
     "metadata": {},
     "output_type": "display_data"
    },
    {
     "data": {
      "text/html": [
       "<pre style=\"white-space:pre;overflow-x:auto;line-height:normal;font-family:Menlo,'DejaVu Sans Mono',consolas,'Courier New',monospace\"><span style=\"color: #008080; text-decoration-color: #008080; font-weight: bold\">2025</span>-<span style=\"color: #008080; text-decoration-color: #008080; font-weight: bold\">09</span>-<span style=\"color: #008080; text-decoration-color: #008080; font-weight: bold\">23</span> <span style=\"color: #00ff00; text-decoration-color: #00ff00; font-weight: bold\">22:04:02</span>,<span style=\"color: #008080; text-decoration-color: #008080; font-weight: bold\">487</span> - <span style=\"font-weight: bold\">{</span>pytorch_tabular.tabular_model:<span style=\"color: #008080; text-decoration-color: #008080; font-weight: bold\">1529</span><span style=\"font-weight: bold\">}</span> - INFO - Loading the best model                     \n",
       "</pre>\n"
      ],
      "text/plain": [
       "\u001b[1;36m2025\u001b[0m-\u001b[1;36m09\u001b[0m-\u001b[1;36m23\u001b[0m \u001b[1;92m22:04:02\u001b[0m,\u001b[1;36m487\u001b[0m - \u001b[1m{\u001b[0mpytorch_tabular.tabular_model:\u001b[1;36m1529\u001b[0m\u001b[1m}\u001b[0m - INFO - Loading the best model                     \n"
      ]
     },
     "metadata": {},
     "output_type": "display_data"
    },
    {
     "name": "stdout",
     "output_type": "stream",
     "text": [
      "\n",
      "--- 训练完成！ ---\n"
     ]
    }
   ],
   "source": [
    "print(\"\\n--- 开始训练 FT-Transformer 模型 ---\")\n",
    "tabular_model.fit(train=train_df, validation=val_df)\n",
    "print(\"\\n--- 训练完成！ ---\")"
   ]
  },
  {
   "cell_type": "markdown",
   "id": "76f8fefd-8df5-40c8-9d5b-60f77cda2cd7",
   "metadata": {},
   "source": [
    "--- 8. 在测试集上评估模型 ---"
   ]
  },
  {
   "cell_type": "code",
   "execution_count": 13,
   "id": "a9bf0e92-fad0-466a-89aa-7a9adead422f",
   "metadata": {},
   "outputs": [
    {
     "name": "stderr",
     "output_type": "stream",
     "text": [
      "/data/home/yuanxiaosong/miniconda3/envs/fin-gen/lib/python3.10/site-packages/pytorch_tabular/categorical_encoders.py:68: FutureWarning: Downcasting object dtype arrays on .fillna, .ffill, .bfill is deprecated and will change in a future version. Call result.infer_objects(copy=False) instead. To opt-in to the future behavior, set `pd.set_option('future.no_silent_downcasting', True)`\n",
      "  X_encoded[col] = X_encoded[col].fillna(NAN_CATEGORY).map(mapping[\"value\"])\n",
      "/data/home/yuanxiaosong/miniconda3/envs/fin-gen/lib/python3.10/site-packages/pytorch_tabular/categorical_encoders.py:71: FutureWarning: A value is trying to be set on a copy of a DataFrame or Series through chained assignment using an inplace method.\n",
      "The behavior will change in pandas 3.0. This inplace method will never work because the intermediate object on which we are setting values always behaves as a copy.\n",
      "\n",
      "For example, when doing 'df[col].method(value, inplace=True)', try using 'df.method({col: value}, inplace=True)' or df[col] = df[col].method(value) instead, to perform the operation inplace on the original object.\n",
      "\n",
      "\n",
      "  X_encoded[col].fillna(self._imputed, inplace=True)\n",
      "/data/home/yuanxiaosong/miniconda3/envs/fin-gen/lib/python3.10/site-packages/pytorch_tabular/tabular_datamodule.py:390: FutureWarning: Setting an item of incompatible dtype is deprecated and will raise in a future error of pandas. Value '[ 1.14634762 -0.48171584 -1.13294122 ... -0.15610315 -1.02440366\n",
      " -0.26464071]' has dtype incompatible with int64, please explicitly cast to a compatible dtype first.\n",
      "  data.loc[:, self.config.continuous_cols] = self.scaler.transform(data.loc[:, self.config.continuous_cols])\n",
      "LOCAL_RANK: 0 - CUDA_VISIBLE_DEVICES: [0,1,2,3,4,5,6,7]\n"
     ]
    },
    {
     "name": "stdout",
     "output_type": "stream",
     "text": [
      "\n",
      "--- 在测试集上评估模型性能 ---\n"
     ]
    },
    {
     "name": "stderr",
     "output_type": "stream",
     "text": [
      "/data/home/yuanxiaosong/miniconda3/envs/fin-gen/lib/python3.10/site-packages/pytorch_lightning/trainer/connectors/data_connector.py:424: The 'test_dataloader' does not have many workers which may be a bottleneck. Consider increasing the value of the `num_workers` argument` to `num_workers=95` in the `DataLoader` to improve performance.\n"
     ]
    },
    {
     "data": {
      "application/vnd.jupyter.widget-view+json": {
       "model_id": "ae79a20e02b14764a55a81851a969146",
       "version_major": 2,
       "version_minor": 0
      },
      "text/plain": [
       "Testing: |                                                                                  | 0/? [00:00<?, ?i…"
      ]
     },
     "metadata": {},
     "output_type": "display_data"
    },
    {
     "data": {
      "text/html": [
       "<pre style=\"white-space:pre;overflow-x:auto;line-height:normal;font-family:Menlo,'DejaVu Sans Mono',consolas,'Courier New',monospace\">┏━━━━━━━━━━━━━━━━━━━━━━━━━━━┳━━━━━━━━━━━━━━━━━━━━━━━━━━━┓\n",
       "┃<span style=\"font-weight: bold\">        Test metric        </span>┃<span style=\"font-weight: bold\">       DataLoader 0        </span>┃\n",
       "┡━━━━━━━━━━━━━━━━━━━━━━━━━━━╇━━━━━━━━━━━━━━━━━━━━━━━━━━━┩\n",
       "│<span style=\"color: #008080; text-decoration-color: #008080\">       test_accuracy       </span>│<span style=\"color: #800080; text-decoration-color: #800080\">    0.8176666498184204     </span>│\n",
       "│<span style=\"color: #008080; text-decoration-color: #008080\">         test_loss         </span>│<span style=\"color: #800080; text-decoration-color: #800080\">     0.44090536236763      </span>│\n",
       "│<span style=\"color: #008080; text-decoration-color: #008080\">        test_loss_0        </span>│<span style=\"color: #800080; text-decoration-color: #800080\">     0.44090536236763      </span>│\n",
       "└───────────────────────────┴───────────────────────────┘\n",
       "</pre>\n"
      ],
      "text/plain": [
       "┏━━━━━━━━━━━━━━━━━━━━━━━━━━━┳━━━━━━━━━━━━━━━━━━━━━━━━━━━┓\n",
       "┃\u001b[1m \u001b[0m\u001b[1m       Test metric       \u001b[0m\u001b[1m \u001b[0m┃\u001b[1m \u001b[0m\u001b[1m      DataLoader 0       \u001b[0m\u001b[1m \u001b[0m┃\n",
       "┡━━━━━━━━━━━━━━━━━━━━━━━━━━━╇━━━━━━━━━━━━━━━━━━━━━━━━━━━┩\n",
       "│\u001b[36m \u001b[0m\u001b[36m      test_accuracy      \u001b[0m\u001b[36m \u001b[0m│\u001b[35m \u001b[0m\u001b[35m   0.8176666498184204    \u001b[0m\u001b[35m \u001b[0m│\n",
       "│\u001b[36m \u001b[0m\u001b[36m        test_loss        \u001b[0m\u001b[36m \u001b[0m│\u001b[35m \u001b[0m\u001b[35m    0.44090536236763     \u001b[0m\u001b[35m \u001b[0m│\n",
       "│\u001b[36m \u001b[0m\u001b[36m       test_loss_0       \u001b[0m\u001b[36m \u001b[0m│\u001b[35m \u001b[0m\u001b[35m    0.44090536236763     \u001b[0m\u001b[35m \u001b[0m│\n",
       "└───────────────────────────┴───────────────────────────┘\n"
      ]
     },
     "metadata": {},
     "output_type": "display_data"
    },
    {
     "name": "stdout",
     "output_type": "stream",
     "text": [
      "[{'test_loss_0': 0.44090536236763, 'test_loss': 0.44090536236763, 'test_accuracy': 0.8176666498184204}]\n"
     ]
    }
   ],
   "source": [
    "# --- 8. 在测试集上评估模型 ---\n",
    "print(\"\\n--- 在测试集上评估模型性能 ---\")\n",
    "eval_result = tabular_model.evaluate(test_df)\n",
    "print(eval_result)"
   ]
  },
  {
   "cell_type": "markdown",
   "id": "e7c7e702-d27b-476a-9c75-eb4fccded42e",
   "metadata": {},
   "source": [
    " --- 9. 保存模型 ---"
   ]
  },
  {
   "cell_type": "code",
   "execution_count": 14,
   "id": "4e05cbdc-5d32-44a6-a57c-c88b34bed388",
   "metadata": {},
   "outputs": [
    {
     "data": {
      "text/html": [
       "<pre style=\"white-space:pre;overflow-x:auto;line-height:normal;font-family:Menlo,'DejaVu Sans Mono',consolas,'Courier New',monospace\"><span style=\"color: #008080; text-decoration-color: #008080; font-weight: bold\">2025</span>-<span style=\"color: #008080; text-decoration-color: #008080; font-weight: bold\">09</span>-<span style=\"color: #008080; text-decoration-color: #008080; font-weight: bold\">23</span> <span style=\"color: #00ff00; text-decoration-color: #00ff00; font-weight: bold\">22:04:03</span>,<span style=\"color: #008080; text-decoration-color: #008080; font-weight: bold\">384</span> - <span style=\"font-weight: bold\">{</span>pytorch_tabular.tabular_model:<span style=\"color: #008080; text-decoration-color: #008080; font-weight: bold\">1575</span><span style=\"font-weight: bold\">}</span> - WARNING - Directory is not empty. Overwriting the \n",
       "contents.                                                                                                          \n",
       "</pre>\n"
      ],
      "text/plain": [
       "\u001b[1;36m2025\u001b[0m-\u001b[1;36m09\u001b[0m-\u001b[1;36m23\u001b[0m \u001b[1;92m22:04:03\u001b[0m,\u001b[1;36m384\u001b[0m - \u001b[1m{\u001b[0mpytorch_tabular.tabular_model:\u001b[1;36m1575\u001b[0m\u001b[1m}\u001b[0m - WARNING - Directory is not empty. Overwriting the \n",
       "contents.                                                                                                          \n"
      ]
     },
     "metadata": {},
     "output_type": "display_data"
    },
    {
     "name": "stdout",
     "output_type": "stream",
     "text": [
      "\n",
      "模型已保存至: None\n"
     ]
    }
   ],
   "source": [
    "save_path = tabular_model.save_model(\"saved_models/ft_transformer_v1\")\n",
    "print(f\"\\n模型已保存至: {save_path}\")"
   ]
  },
  {
   "cell_type": "code",
   "execution_count": null,
   "id": "65cf5aaf-ff7f-4a11-a7d3-bfc75f921b0d",
   "metadata": {},
   "outputs": [],
   "source": []
  }
 ],
 "metadata": {
  "kernelspec": {
   "display_name": "Python 3 (ipykernel)",
   "language": "python",
   "name": "python3"
  },
  "language_info": {
   "codemirror_mode": {
    "name": "ipython",
    "version": 3
   },
   "file_extension": ".py",
   "mimetype": "text/x-python",
   "name": "python",
   "nbconvert_exporter": "python",
   "pygments_lexer": "ipython3",
   "version": "3.10.18"
  }
 },
 "nbformat": 4,
 "nbformat_minor": 5
}
